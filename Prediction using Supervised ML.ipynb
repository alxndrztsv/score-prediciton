{
 "cells": [
  {
   "cell_type": "markdown",
   "id": "5b6bd14f",
   "metadata": {},
   "source": [
    "# Prediction using Supervised ML"
   ]
  },
  {
   "cell_type": "markdown",
   "id": "16fdf88f",
   "metadata": {},
   "source": [
    "### 1. Read data from the url and plot the data to see correlations.\n",
    "### 2. Split data and train the model.\n",
    "### 3. Predict the score."
   ]
  },
  {
   "cell_type": "code",
   "execution_count": 1,
   "id": "5f1b8a0f",
   "metadata": {},
   "outputs": [],
   "source": [
    "# import libraries;\n",
    "import pandas as pd\n",
    "import matplotlib.pyplot as plt\n",
    "from sklearn.model_selection import train_test_split\n",
    "from sklearn.linear_model import LinearRegression\n",
    "from sklearn import metrics"
   ]
  },
  {
   "cell_type": "code",
   "execution_count": 2,
   "id": "73f3ea1a",
   "metadata": {},
   "outputs": [
    {
     "data": {
      "text/html": [
       "<div>\n",
       "<style scoped>\n",
       "    .dataframe tbody tr th:only-of-type {\n",
       "        vertical-align: middle;\n",
       "    }\n",
       "\n",
       "    .dataframe tbody tr th {\n",
       "        vertical-align: top;\n",
       "    }\n",
       "\n",
       "    .dataframe thead th {\n",
       "        text-align: right;\n",
       "    }\n",
       "</style>\n",
       "<table border=\"1\" class=\"dataframe\">\n",
       "  <thead>\n",
       "    <tr style=\"text-align: right;\">\n",
       "      <th></th>\n",
       "      <th>Hours</th>\n",
       "      <th>Scores</th>\n",
       "    </tr>\n",
       "  </thead>\n",
       "  <tbody>\n",
       "    <tr>\n",
       "      <th>0</th>\n",
       "      <td>2.5</td>\n",
       "      <td>21</td>\n",
       "    </tr>\n",
       "    <tr>\n",
       "      <th>1</th>\n",
       "      <td>5.1</td>\n",
       "      <td>47</td>\n",
       "    </tr>\n",
       "    <tr>\n",
       "      <th>2</th>\n",
       "      <td>3.2</td>\n",
       "      <td>27</td>\n",
       "    </tr>\n",
       "    <tr>\n",
       "      <th>3</th>\n",
       "      <td>8.5</td>\n",
       "      <td>75</td>\n",
       "    </tr>\n",
       "    <tr>\n",
       "      <th>4</th>\n",
       "      <td>3.5</td>\n",
       "      <td>30</td>\n",
       "    </tr>\n",
       "  </tbody>\n",
       "</table>\n",
       "</div>"
      ],
      "text/plain": [
       "   Hours  Scores\n",
       "0    2.5      21\n",
       "1    5.1      47\n",
       "2    3.2      27\n",
       "3    8.5      75\n",
       "4    3.5      30"
      ]
     },
     "execution_count": 2,
     "metadata": {},
     "output_type": "execute_result"
    }
   ],
   "source": [
    "# read data from the url;\n",
    "url = 'https://raw.githubusercontent.com/AdiPersonalWorks/Random/master/student_scores%20-%20student_scores.csv'\n",
    "data = pd.read_csv(url)\n",
    "data.head()"
   ]
  },
  {
   "cell_type": "code",
   "execution_count": 3,
   "id": "57883224",
   "metadata": {},
   "outputs": [
    {
     "data": {
      "image/png": "[encoded data removed]",
      "text/plain": [
       "<Figure size 432x288 with 1 Axes>"
      ]
     },
     "metadata": {
      "needs_background": "light"
     },
     "output_type": "display_data"
    }
   ],
   "source": [
    "# plot the data on a graph to see any correlations;\n",
    "data.plot(x='Hours', y='Scores', style='*')\n",
    "plt.title('Hours / Scores correlation')\n",
    "plt.xlabel('Study hours')\n",
    "plt.ylabel('Percentage of scores')\n",
    "plt.grid()"
   ]
  },
  {
   "cell_type": "markdown",
   "id": "3c3e7048",
   "metadata": {},
   "source": [
    "##### As we can see there is a positive linear relationship between study hours and scores."
   ]
  },
  {
   "cell_type": "code",
   "execution_count": 4,
   "id": "d66db80b",
   "metadata": {},
   "outputs": [],
   "source": [
    "# divide the data into predictors (inputs) and responses (outputs);\n",
    "# retrieve the values of the column 'Hours';\n",
    "X = data.iloc[:, :-1].values\n",
    "# retrieve the values of the column 'Scores';\n",
    "y = data.iloc[:, 1].values"
   ]
  },
  {
   "cell_type": "markdown",
   "id": "6bd1e081",
   "metadata": {},
   "source": [
    "##### Split the data into training and test subsets."
   ]
  },
  {
   "cell_type": "code",
   "execution_count": 5,
   "id": "4ae15561",
   "metadata": {},
   "outputs": [],
   "source": [
    "# training set is applied to train or fit the model;\n",
    "# test set is used for an unbiased evaluation of the model;\n",
    "# set the ratio training/testing as 80/20;\n",
    "X_train, X_test, y_train, y_test = train_test_split(X, y, test_size=0.2)"
   ]
  },
  {
   "cell_type": "markdown",
   "id": "1bf2b596",
   "metadata": {},
   "source": [
    "##### Train the model."
   ]
  },
  {
   "cell_type": "code",
   "execution_count": 6,
   "id": "8d753166",
   "metadata": {},
   "outputs": [],
   "source": [
    "# fit linear model;\n",
    "model = LinearRegression().fit(X_train, y_train)"
   ]
  },
  {
   "attachments": {
    "image.png": {
     "image/png": "[encoded data removed]"
    }
   },
   "cell_type": "markdown",
   "id": "8e96da41",
   "metadata": {},
   "source": [
    "##### Formula for linear regression:\n",
    "![image.png](attachment:image.png)"
   ]
  },
  {
   "cell_type": "code",
   "execution_count": 7,
   "id": "61cca5dd",
   "metadata": {},
   "outputs": [],
   "source": [
    "# plot the regression line;\n",
    "line = model.coef_ * X + model.intercept_"
   ]
  },
  {
   "cell_type": "code",
   "execution_count": 8,
   "id": "1129c2ad",
   "metadata": {},
   "outputs": [
    {
     "data": {
      "text/plain": [
       "Text(0, 0.5, 'Percentage of scores')"
      ]
     },
     "execution_count": 8,
     "metadata": {},
     "output_type": "execute_result"
    },
    {
     "data": {
      "image/png": "[encoded data removed]",
      "text/plain": [
       "<Figure size 432x288 with 1 Axes>"
      ]
     },
     "metadata": {
      "needs_background": "light"
     },
     "output_type": "display_data"
    }
   ],
   "source": [
    "# plot for the test data;\n",
    "plt.scatter(X, y)\n",
    "plt.plot(X, line)\n",
    "plt.grid()\n",
    "plt.xlabel('Study hours')\n",
    "plt.ylabel('Percentage of scores')"
   ]
  },
  {
   "cell_type": "markdown",
   "id": "b72ab7a1",
   "metadata": {},
   "source": [
    "##### Predict the scores."
   ]
  },
  {
   "cell_type": "code",
   "execution_count": 9,
   "id": "6022fc8b",
   "metadata": {},
   "outputs": [],
   "source": [
    "y_predict = model.predict(X_test)"
   ]
  },
  {
   "cell_type": "code",
   "execution_count": 10,
   "id": "f65a47eb",
   "metadata": {},
   "outputs": [
    {
     "data": {
      "text/html": [
       "<div>\n",
       "<style scoped>\n",
       "    .dataframe tbody tr th:only-of-type {\n",
       "        vertical-align: middle;\n",
       "    }\n",
       "\n",
       "    .dataframe tbody tr th {\n",
       "        vertical-align: top;\n",
       "    }\n",
       "\n",
       "    .dataframe thead th {\n",
       "        text-align: right;\n",
       "    }\n",
       "</style>\n",
       "<table border=\"1\" class=\"dataframe\">\n",
       "  <thead>\n",
       "    <tr style=\"text-align: right;\">\n",
       "      <th></th>\n",
       "      <th>Real</th>\n",
       "      <th>Predicted</th>\n",
       "    </tr>\n",
       "  </thead>\n",
       "  <tbody>\n",
       "    <tr>\n",
       "      <th>0</th>\n",
       "      <td>17</td>\n",
       "      <td>11.420368</td>\n",
       "    </tr>\n",
       "    <tr>\n",
       "      <th>1</th>\n",
       "      <td>42</td>\n",
       "      <td>33.764943</td>\n",
       "    </tr>\n",
       "    <tr>\n",
       "      <th>2</th>\n",
       "      <td>41</td>\n",
       "      <td>45.952893</td>\n",
       "    </tr>\n",
       "    <tr>\n",
       "      <th>3</th>\n",
       "      <td>88</td>\n",
       "      <td>93.689029</td>\n",
       "    </tr>\n",
       "    <tr>\n",
       "      <th>4</th>\n",
       "      <td>54</td>\n",
       "      <td>48.999880</td>\n",
       "    </tr>\n",
       "  </tbody>\n",
       "</table>\n",
       "</div>"
      ],
      "text/plain": [
       "   Real  Predicted\n",
       "0    17  11.420368\n",
       "1    42  33.764943\n",
       "2    41  45.952893\n",
       "3    88  93.689029\n",
       "4    54  48.999880"
      ]
     },
     "execution_count": 10,
     "metadata": {},
     "output_type": "execute_result"
    }
   ],
   "source": [
    "# show the real data vs predicted;\n",
    "df = pd.DataFrame({'Real': y_test, 'Predicted': y_predict})\n",
    "df.head()"
   ]
  },
  {
   "cell_type": "markdown",
   "id": "e58b621c",
   "metadata": {},
   "source": [
    "##### Predict with the provided data."
   ]
  },
  {
   "cell_type": "code",
   "execution_count": 11,
   "id": "7a105fc7",
   "metadata": {
    "scrolled": true
   },
   "outputs": [
    {
     "name": "stdout",
     "output_type": "stream",
     "text": [
      "Provided hours: 9.25\n",
      "Predicted Score: 94.19686064843376\n"
     ]
    }
   ],
   "source": [
    "hours = 9.25\n",
    "user_predict = model.predict([[hours]])\n",
    "print('Provided hours:', hours)\n",
    "print('Predicted Score:', user_predict[0])"
   ]
  },
  {
   "cell_type": "code",
   "execution_count": 12,
   "id": "65abb048",
   "metadata": {},
   "outputs": [
    {
     "name": "stdout",
     "output_type": "stream",
     "text": [
      "Provided hours: 4\n",
      "Predicted Score: 40.87458016313661\n"
     ]
    }
   ],
   "source": [
    "hours = 4\n",
    "user_predict = model.predict([[hours]])\n",
    "print('Provided hours:', hours)\n",
    "print('Predicted Score:', user_predict[0])"
   ]
  },
  {
   "cell_type": "markdown",
   "id": "32b6aee7",
   "metadata": {},
   "source": [
    "##### Evaluate the performance of the algorithm."
   ]
  },
  {
   "cell_type": "code",
   "execution_count": 13,
   "id": "757c0dcb",
   "metadata": {},
   "outputs": [
    {
     "name": "stdout",
     "output_type": "stream",
     "text": [
      "Mean Absolute Error: 5.891346219754604\n"
     ]
    }
   ],
   "source": [
    "# use mean absolute error;\n",
    "print('Mean Absolute Error:', metrics.mean_absolute_error(y_test, y_predict))"
   ]
  }
 ],
 "metadata": {
  "kernelspec": {
   "display_name": "Python 3 (ipykernel)",
   "language": "python",
   "name": "python3"
  },
  "language_info": {
   "codemirror_mode": {
    "name": "ipython",
    "version": 3
   },
   "file_extension": ".py",
   "mimetype": "text/x-python",
   "name": "python",
   "nbconvert_exporter": "python",
   "pygments_lexer": "ipython3",
   "version": "3.9.6"
  }
 },
 "nbformat": 4,
 "nbformat_minor": 5
}
